{
 "cells": [
  {
   "cell_type": "code",
   "execution_count": 1,
   "metadata": {},
   "outputs": [],
   "source": [
    "#possible to predict actual weather with the forecast?\n",
    "from common import data_folder_path\n",
    "import os\n",
    "import pandas as pd\n",
    "import matplotlib.pyplot as plt\n"
   ]
  },
  {
   "cell_type": "code",
   "execution_count": 3,
   "metadata": {},
   "outputs": [],
   "source": [
    "historical_weather_df = pd.read_csv(os.path.join(data_folder_path,'historical_weather.csv'))\n",
    "forecast_weather_df = pd.read_csv(os.path.join(data_folder_path,'forecast_weather.csv'))"
   ]
  },
  {
   "cell_type": "code",
   "execution_count": 6,
   "metadata": {},
   "outputs": [],
   "source": [
    "historical_weather_df['datetime'] = pd.to_datetime(historical_weather_df['datetime'])\n",
    "#forecast_weather_df['datetime'] = pd.to_datetime(forecast_weather_df['datetime'])"
   ]
  },
  {
   "cell_type": "code",
   "execution_count": 13,
   "metadata": {},
   "outputs": [],
   "source": [
    "forecast_weather_df['origin_datetime'] = pd.to_datetime(forecast_weather_df['origin_datetime'])\n",
    "forecast_weather_df['forecast_datetime'] = pd.to_datetime(forecast_weather_df['forecast_datetime'])\n",
    "forecast_weather_df['forecast_delta'] = forecast_weather_df['forecast_datetime'] - forecast_weather_df['origin_datetime']"
   ]
  },
  {
   "cell_type": "code",
   "execution_count": 40,
   "metadata": {},
   "outputs": [
    {
     "data": {
      "text/plain": [
       "112    184\n",
       "224      4\n",
       "Name: count, dtype: int64"
      ]
     },
     "execution_count": 40,
     "metadata": {},
     "output_type": "execute_result"
    }
   ],
   "source": [
    "delta_counts_df = forecast_weather_df.groupby(['origin_datetime','forecast_delta']).size()#.reset_index(name='counts')['counts']\n",
    "#delta_counts_df[delta_counts_df.isin(index)]\n",
    "delta_counts_df[delta_counts_df[delta_counts_df == 224].reset_index()['origin_datetime']].value_counts()"
   ]
  },
  {
   "cell_type": "code",
   "execution_count": 67,
   "metadata": {},
   "outputs": [
    {
     "data": {
      "text/plain": [
       "datetime\n",
       "2022-11-06 11:00:00    112\n",
       "2022-11-06 12:00:00    112\n",
       "2022-11-06 13:00:00    112\n",
       "2022-11-06 14:00:00    112\n",
       "2022-11-06 15:00:00    112\n",
       "2022-11-06 16:00:00    112\n",
       "2022-11-06 17:00:00    112\n",
       "2022-11-06 18:00:00    112\n",
       "2022-11-06 19:00:00    112\n",
       "2022-11-06 20:00:00    112\n",
       "2022-11-06 21:00:00    112\n",
       "2022-11-06 22:00:00    112\n",
       "2022-11-06 23:00:00    112\n",
       "2022-11-07 00:00:00    112\n",
       "2022-11-07 01:00:00    112\n",
       "2022-11-07 02:00:00    112\n",
       "2022-11-07 03:00:00    112\n",
       "2022-11-07 04:00:00    112\n",
       "2022-11-07 05:00:00    112\n",
       "2022-11-07 06:00:00    112\n",
       "2022-11-07 07:00:00    112\n",
       "2022-11-07 08:00:00    112\n",
       "2022-11-07 09:00:00    112\n",
       "2022-11-07 10:00:00    112\n",
       "dtype: int64"
      ]
     },
     "execution_count": 67,
     "metadata": {},
     "output_type": "execute_result"
    }
   ],
   "source": [
    "historical_weather_df[historical_weather_df['data_block_id']==433].groupby(['datetime']).size()#.count()"
   ]
  },
  {
   "cell_type": "code",
   "execution_count": 73,
   "metadata": {},
   "outputs": [
    {
     "data": {
      "text/plain": [
       "forecast_datetime\n",
       "2022-11-06 02:00:00    112\n",
       "2022-11-06 03:00:00    112\n",
       "2022-11-06 04:00:00    112\n",
       "2022-11-06 05:00:00    112\n",
       "2022-11-06 06:00:00    112\n",
       "2022-11-06 07:00:00    112\n",
       "2022-11-06 08:00:00    112\n",
       "2022-11-06 09:00:00    112\n",
       "2022-11-06 10:00:00    112\n",
       "2022-11-06 11:00:00    112\n",
       "2022-11-06 12:00:00    112\n",
       "2022-11-06 13:00:00    112\n",
       "2022-11-06 14:00:00    112\n",
       "2022-11-06 15:00:00    112\n",
       "2022-11-06 16:00:00    112\n",
       "2022-11-06 17:00:00    112\n",
       "2022-11-06 18:00:00    112\n",
       "2022-11-06 19:00:00    112\n",
       "2022-11-06 20:00:00    112\n",
       "2022-11-06 21:00:00    112\n",
       "2022-11-06 22:00:00    112\n",
       "2022-11-06 23:00:00    112\n",
       "2022-11-07 00:00:00    112\n",
       "2022-11-07 01:00:00    112\n",
       "2022-11-07 02:00:00    112\n",
       "2022-11-07 03:00:00    112\n",
       "2022-11-07 04:00:00    112\n",
       "2022-11-07 05:00:00    112\n",
       "2022-11-07 06:00:00    112\n",
       "2022-11-07 07:00:00    112\n",
       "2022-11-07 08:00:00    112\n",
       "2022-11-07 09:00:00    112\n",
       "2022-11-07 10:00:00    112\n",
       "2022-11-07 11:00:00    112\n",
       "2022-11-07 12:00:00    112\n",
       "2022-11-07 13:00:00    112\n",
       "2022-11-07 14:00:00    112\n",
       "2022-11-07 15:00:00    112\n",
       "2022-11-07 16:00:00    112\n",
       "2022-11-07 17:00:00    112\n",
       "2022-11-07 18:00:00    112\n",
       "2022-11-07 19:00:00    112\n",
       "2022-11-07 20:00:00    112\n",
       "2022-11-07 21:00:00    112\n",
       "2022-11-07 22:00:00    112\n",
       "2022-11-07 23:00:00    112\n",
       "2022-11-08 00:00:00    112\n",
       "2022-11-08 01:00:00    112\n",
       "dtype: int64"
      ]
     },
     "execution_count": 73,
     "metadata": {},
     "output_type": "execute_result"
    }
   ],
   "source": [
    "forecast_weather_df[forecast_weather_df['data_block_id']==432].groupby(['forecast_datetime']).size()#.count()"
   ]
  },
  {
   "cell_type": "code",
   "execution_count": null,
   "metadata": {},
   "outputs": [],
   "source": []
  }
 ],
 "metadata": {
  "kernelspec": {
   "display_name": "base",
   "language": "python",
   "name": "python3"
  },
  "language_info": {
   "codemirror_mode": {
    "name": "ipython",
    "version": 3
   },
   "file_extension": ".py",
   "mimetype": "text/x-python",
   "name": "python",
   "nbconvert_exporter": "python",
   "pygments_lexer": "ipython3",
   "version": "3.11.5"
  }
 },
 "nbformat": 4,
 "nbformat_minor": 2
}
